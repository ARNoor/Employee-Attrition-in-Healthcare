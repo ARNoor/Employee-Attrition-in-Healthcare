{
  "nbformat": 4,
  "nbformat_minor": 0,
  "metadata": {
    "colab": {
      "provenance": []
    },
    "kernelspec": {
      "name": "python3",
      "display_name": "Python 3"
    },
    "language_info": {
      "name": "python"
    }
  },
  "cells": [
    {
      "cell_type": "markdown",
      "source": [
        "# Loading the datasets"
      ],
      "metadata": {
        "id": "rSAxDjiGrpsd"
      }
    },
    {
      "cell_type": "code",
      "execution_count": null,
      "metadata": {
        "id": "mQ1i2EFUjSrw"
      },
      "outputs": [],
      "source": [
        "import pandas as pd\n",
        "import numpy as np"
      ]
    },
    {
      "cell_type": "code",
      "source": [
        "small_df = pd.read_csv('/content/watson_healthcare_modified.csv')\n",
        "large_train_df = pd.read_csv('/content/train.csv')\n",
        "large_test_df = pd.read_csv('/content/test.csv')"
      ],
      "metadata": {
        "id": "1F5o2QzqjX4W"
      },
      "execution_count": null,
      "outputs": []
    },
    {
      "cell_type": "code",
      "source": [
        "large_train_df = large_train_df[large_train_df['Job Role'] == 'Healthcare']\n",
        "large_test_df = large_test_df[large_test_df['Job Role'] == 'Healthcare']"
      ],
      "metadata": {
        "id": "8ZWPP1LukBG-"
      },
      "execution_count": null,
      "outputs": []
    },
    {
      "cell_type": "code",
      "source": [
        "small_df.head(1)"
      ],
      "metadata": {
        "colab": {
          "base_uri": "https://localhost:8080/",
          "height": 130
        },
        "id": "K8Oa_sCtkkh_",
        "outputId": "b6e9c9db-306b-4ce6-938d-0fca923e18a7"
      },
      "execution_count": null,
      "outputs": [
        {
          "output_type": "execute_result",
          "data": {
            "text/plain": [
              "   EmployeeID  Age Attrition BusinessTravel  DailyRate  Department  \\\n",
              "0     1313919   41        No  Travel_Rarely       1102  Cardiology   \n",
              "\n",
              "   DistanceFromHome  Education EducationField  EmployeeCount  ...  \\\n",
              "0                 1          2  Life Sciences              1  ...   \n",
              "\n",
              "   RelationshipSatisfaction StandardHours  Shift  TotalWorkingYears  \\\n",
              "0                         1            80      0                  8   \n",
              "\n",
              "   TrainingTimesLastYear WorkLifeBalance  YearsAtCompany YearsInCurrentRole  \\\n",
              "0                      0               1               6                  4   \n",
              "\n",
              "   YearsSinceLastPromotion  YearsWithCurrManager  \n",
              "0                        0                     5  \n",
              "\n",
              "[1 rows x 35 columns]"
            ],
            "text/html": [
              "\n",
              "  <div id=\"df-15da39cb-b382-4139-a65b-50fc4b498d9c\" class=\"colab-df-container\">\n",
              "    <div>\n",
              "<style scoped>\n",
              "    .dataframe tbody tr th:only-of-type {\n",
              "        vertical-align: middle;\n",
              "    }\n",
              "\n",
              "    .dataframe tbody tr th {\n",
              "        vertical-align: top;\n",
              "    }\n",
              "\n",
              "    .dataframe thead th {\n",
              "        text-align: right;\n",
              "    }\n",
              "</style>\n",
              "<table border=\"1\" class=\"dataframe\">\n",
              "  <thead>\n",
              "    <tr style=\"text-align: right;\">\n",
              "      <th></th>\n",
              "      <th>EmployeeID</th>\n",
              "      <th>Age</th>\n",
              "      <th>Attrition</th>\n",
              "      <th>BusinessTravel</th>\n",
              "      <th>DailyRate</th>\n",
              "      <th>Department</th>\n",
              "      <th>DistanceFromHome</th>\n",
              "      <th>Education</th>\n",
              "      <th>EducationField</th>\n",
              "      <th>EmployeeCount</th>\n",
              "      <th>...</th>\n",
              "      <th>RelationshipSatisfaction</th>\n",
              "      <th>StandardHours</th>\n",
              "      <th>Shift</th>\n",
              "      <th>TotalWorkingYears</th>\n",
              "      <th>TrainingTimesLastYear</th>\n",
              "      <th>WorkLifeBalance</th>\n",
              "      <th>YearsAtCompany</th>\n",
              "      <th>YearsInCurrentRole</th>\n",
              "      <th>YearsSinceLastPromotion</th>\n",
              "      <th>YearsWithCurrManager</th>\n",
              "    </tr>\n",
              "  </thead>\n",
              "  <tbody>\n",
              "    <tr>\n",
              "      <th>0</th>\n",
              "      <td>1313919</td>\n",
              "      <td>41</td>\n",
              "      <td>No</td>\n",
              "      <td>Travel_Rarely</td>\n",
              "      <td>1102</td>\n",
              "      <td>Cardiology</td>\n",
              "      <td>1</td>\n",
              "      <td>2</td>\n",
              "      <td>Life Sciences</td>\n",
              "      <td>1</td>\n",
              "      <td>...</td>\n",
              "      <td>1</td>\n",
              "      <td>80</td>\n",
              "      <td>0</td>\n",
              "      <td>8</td>\n",
              "      <td>0</td>\n",
              "      <td>1</td>\n",
              "      <td>6</td>\n",
              "      <td>4</td>\n",
              "      <td>0</td>\n",
              "      <td>5</td>\n",
              "    </tr>\n",
              "  </tbody>\n",
              "</table>\n",
              "<p>1 rows × 35 columns</p>\n",
              "</div>\n",
              "    <div class=\"colab-df-buttons\">\n",
              "\n",
              "  <div class=\"colab-df-container\">\n",
              "    <button class=\"colab-df-convert\" onclick=\"convertToInteractive('df-15da39cb-b382-4139-a65b-50fc4b498d9c')\"\n",
              "            title=\"Convert this dataframe to an interactive table.\"\n",
              "            style=\"display:none;\">\n",
              "\n",
              "  <svg xmlns=\"http://www.w3.org/2000/svg\" height=\"24px\" viewBox=\"0 -960 960 960\">\n",
              "    <path d=\"M120-120v-720h720v720H120Zm60-500h600v-160H180v160Zm220 220h160v-160H400v160Zm0 220h160v-160H400v160ZM180-400h160v-160H180v160Zm440 0h160v-160H620v160ZM180-180h160v-160H180v160Zm440 0h160v-160H620v160Z\"/>\n",
              "  </svg>\n",
              "    </button>\n",
              "\n",
              "  <style>\n",
              "    .colab-df-container {\n",
              "      display:flex;\n",
              "      gap: 12px;\n",
              "    }\n",
              "\n",
              "    .colab-df-convert {\n",
              "      background-color: #E8F0FE;\n",
              "      border: none;\n",
              "      border-radius: 50%;\n",
              "      cursor: pointer;\n",
              "      display: none;\n",
              "      fill: #1967D2;\n",
              "      height: 32px;\n",
              "      padding: 0 0 0 0;\n",
              "      width: 32px;\n",
              "    }\n",
              "\n",
              "    .colab-df-convert:hover {\n",
              "      background-color: #E2EBFA;\n",
              "      box-shadow: 0px 1px 2px rgba(60, 64, 67, 0.3), 0px 1px 3px 1px rgba(60, 64, 67, 0.15);\n",
              "      fill: #174EA6;\n",
              "    }\n",
              "\n",
              "    .colab-df-buttons div {\n",
              "      margin-bottom: 4px;\n",
              "    }\n",
              "\n",
              "    [theme=dark] .colab-df-convert {\n",
              "      background-color: #3B4455;\n",
              "      fill: #D2E3FC;\n",
              "    }\n",
              "\n",
              "    [theme=dark] .colab-df-convert:hover {\n",
              "      background-color: #434B5C;\n",
              "      box-shadow: 0px 1px 3px 1px rgba(0, 0, 0, 0.15);\n",
              "      filter: drop-shadow(0px 1px 2px rgba(0, 0, 0, 0.3));\n",
              "      fill: #FFFFFF;\n",
              "    }\n",
              "  </style>\n",
              "\n",
              "    <script>\n",
              "      const buttonEl =\n",
              "        document.querySelector('#df-15da39cb-b382-4139-a65b-50fc4b498d9c button.colab-df-convert');\n",
              "      buttonEl.style.display =\n",
              "        google.colab.kernel.accessAllowed ? 'block' : 'none';\n",
              "\n",
              "      async function convertToInteractive(key) {\n",
              "        const element = document.querySelector('#df-15da39cb-b382-4139-a65b-50fc4b498d9c');\n",
              "        const dataTable =\n",
              "          await google.colab.kernel.invokeFunction('convertToInteractive',\n",
              "                                                    [key], {});\n",
              "        if (!dataTable) return;\n",
              "\n",
              "        const docLinkHtml = 'Like what you see? Visit the ' +\n",
              "          '<a target=\"_blank\" href=https://colab.research.google.com/notebooks/data_table.ipynb>data table notebook</a>'\n",
              "          + ' to learn more about interactive tables.';\n",
              "        element.innerHTML = '';\n",
              "        dataTable['output_type'] = 'display_data';\n",
              "        await google.colab.output.renderOutput(dataTable, element);\n",
              "        const docLink = document.createElement('div');\n",
              "        docLink.innerHTML = docLinkHtml;\n",
              "        element.appendChild(docLink);\n",
              "      }\n",
              "    </script>\n",
              "  </div>\n",
              "\n",
              "\n",
              "    </div>\n",
              "  </div>\n"
            ],
            "application/vnd.google.colaboratory.intrinsic+json": {
              "type": "dataframe",
              "variable_name": "small_df"
            }
          },
          "metadata": {},
          "execution_count": 53
        }
      ]
    },
    {
      "cell_type": "code",
      "source": [
        "large_train_df.shape, large_test_df.shape"
      ],
      "metadata": {
        "colab": {
          "base_uri": "https://localhost:8080/"
        },
        "id": "Y2VKAr9wkWUr",
        "outputId": "55fdd0c5-d166-41f7-cb05-71b3fe1977e5"
      },
      "execution_count": null,
      "outputs": [
        {
          "output_type": "execute_result",
          "data": {
            "text/plain": [
              "((13642, 24), (3432, 24))"
            ]
          },
          "metadata": {},
          "execution_count": 54
        }
      ]
    },
    {
      "cell_type": "code",
      "source": [
        "small_df.shape"
      ],
      "metadata": {
        "colab": {
          "base_uri": "https://localhost:8080/"
        },
        "id": "H_7y1ZA9vmc6",
        "outputId": "8890b933-df6e-4e5d-aaad-42498da0c9fe"
      },
      "execution_count": null,
      "outputs": [
        {
          "output_type": "execute_result",
          "data": {
            "text/plain": [
              "(1676, 35)"
            ]
          },
          "metadata": {},
          "execution_count": 55
        }
      ]
    },
    {
      "cell_type": "code",
      "source": [
        "small_df.drop('EmployeeID', axis=1, inplace=True)\n",
        "large_train_df.drop('Employee ID', axis=1, inplace=True)\n",
        "large_test_df.drop('Employee ID', axis=1, inplace=True)"
      ],
      "metadata": {
        "id": "v39LltnxqPv9"
      },
      "execution_count": null,
      "outputs": []
    },
    {
      "cell_type": "markdown",
      "source": [
        "In this step, it is made sure that 70% of Attrition 'Yes' is in Train, and remaining 30% of Attrition 'Yes' is in Test. Same for Attrition 'No'"
      ],
      "metadata": {
        "id": "WqhplyxaoKYV"
      }
    },
    {
      "cell_type": "code",
      "source": [
        "attrition_yes_df = small_df[small_df['Attrition'] == 'Yes']\n",
        "attrition_no_df = small_df[small_df['Attrition'] == 'No']"
      ],
      "metadata": {
        "id": "_cnYLqS6k6uX"
      },
      "execution_count": null,
      "outputs": []
    },
    {
      "cell_type": "code",
      "source": [
        "# Calculate the number of rows for training and testing\n",
        "train_yes_rows = int(len(attrition_yes_df) * 0.7)\n",
        "train_no_rows = int(len(attrition_no_df) * 0.7)\n",
        "\n",
        "# Create training and testing dataframes\n",
        "small_train_df = pd.concat([attrition_yes_df.iloc[:train_yes_rows], attrition_no_df.iloc[:train_no_rows]])\n",
        "small_test_df = pd.concat([attrition_yes_df.iloc[train_yes_rows:], attrition_no_df.iloc[train_no_rows:]])\n",
        "\n",
        "# Shuffle the dataframes\n",
        "small_train_df = small_train_df.sample(frac=1, random_state=42)\n",
        "small_test_df = small_test_df.sample(frac=1, random_state=42)\n",
        "\n",
        "# Print the shapes of the new dataframes\n",
        "print(\"Small train df shape:\", small_train_df.shape)\n",
        "print(\"Small test df shape:\", small_test_df.shape)"
      ],
      "metadata": {
        "colab": {
          "base_uri": "https://localhost:8080/"
        },
        "id": "ICk-uPjhlljP",
        "outputId": "0944d100-b4b1-45a4-d65e-25d4f59763a3"
      },
      "execution_count": null,
      "outputs": [
        {
          "output_type": "stream",
          "name": "stdout",
          "text": [
            "Small train df shape: (1172, 34)\n",
            "Small test df shape: (504, 34)\n"
          ]
        }
      ]
    },
    {
      "cell_type": "code",
      "source": [
        "small_train_df.Attrition.value_counts()"
      ],
      "metadata": {
        "colab": {
          "base_uri": "https://localhost:8080/",
          "height": 178
        },
        "collapsed": true,
        "id": "D2uo5EL7naSv",
        "outputId": "d0b8143f-b717-4ded-e8a9-630e47232571"
      },
      "execution_count": null,
      "outputs": [
        {
          "output_type": "execute_result",
          "data": {
            "text/plain": [
              "Attrition\n",
              "No     1033\n",
              "Yes     139\n",
              "Name: count, dtype: int64"
            ],
            "text/html": [
              "<div>\n",
              "<style scoped>\n",
              "    .dataframe tbody tr th:only-of-type {\n",
              "        vertical-align: middle;\n",
              "    }\n",
              "\n",
              "    .dataframe tbody tr th {\n",
              "        vertical-align: top;\n",
              "    }\n",
              "\n",
              "    .dataframe thead th {\n",
              "        text-align: right;\n",
              "    }\n",
              "</style>\n",
              "<table border=\"1\" class=\"dataframe\">\n",
              "  <thead>\n",
              "    <tr style=\"text-align: right;\">\n",
              "      <th></th>\n",
              "      <th>count</th>\n",
              "    </tr>\n",
              "    <tr>\n",
              "      <th>Attrition</th>\n",
              "      <th></th>\n",
              "    </tr>\n",
              "  </thead>\n",
              "  <tbody>\n",
              "    <tr>\n",
              "      <th>No</th>\n",
              "      <td>1033</td>\n",
              "    </tr>\n",
              "    <tr>\n",
              "      <th>Yes</th>\n",
              "      <td>139</td>\n",
              "    </tr>\n",
              "  </tbody>\n",
              "</table>\n",
              "</div><br><label><b>dtype:</b> int64</label>"
            ]
          },
          "metadata": {},
          "execution_count": 59
        }
      ]
    },
    {
      "cell_type": "code",
      "source": [
        "small_test_df.Attrition.value_counts()"
      ],
      "metadata": {
        "colab": {
          "base_uri": "https://localhost:8080/",
          "height": 178
        },
        "collapsed": true,
        "id": "EzM-4YTknyAn",
        "outputId": "cda99d06-89b0-47d2-b44b-1a782d49b362"
      },
      "execution_count": null,
      "outputs": [
        {
          "output_type": "execute_result",
          "data": {
            "text/plain": [
              "Attrition\n",
              "No     444\n",
              "Yes     60\n",
              "Name: count, dtype: int64"
            ],
            "text/html": [
              "<div>\n",
              "<style scoped>\n",
              "    .dataframe tbody tr th:only-of-type {\n",
              "        vertical-align: middle;\n",
              "    }\n",
              "\n",
              "    .dataframe tbody tr th {\n",
              "        vertical-align: top;\n",
              "    }\n",
              "\n",
              "    .dataframe thead th {\n",
              "        text-align: right;\n",
              "    }\n",
              "</style>\n",
              "<table border=\"1\" class=\"dataframe\">\n",
              "  <thead>\n",
              "    <tr style=\"text-align: right;\">\n",
              "      <th></th>\n",
              "      <th>count</th>\n",
              "    </tr>\n",
              "    <tr>\n",
              "      <th>Attrition</th>\n",
              "      <th></th>\n",
              "    </tr>\n",
              "  </thead>\n",
              "  <tbody>\n",
              "    <tr>\n",
              "      <th>No</th>\n",
              "      <td>444</td>\n",
              "    </tr>\n",
              "    <tr>\n",
              "      <th>Yes</th>\n",
              "      <td>60</td>\n",
              "    </tr>\n",
              "  </tbody>\n",
              "</table>\n",
              "</div><br><label><b>dtype:</b> int64</label>"
            ]
          },
          "metadata": {},
          "execution_count": 60
        }
      ]
    },
    {
      "cell_type": "code",
      "source": [
        "small_train_df.Attrition.value_counts(normalize=True)"
      ],
      "metadata": {
        "colab": {
          "base_uri": "https://localhost:8080/",
          "height": 178
        },
        "id": "Yoqf_ytodPvg",
        "outputId": "e834eb1e-e14e-45d9-c9f4-1c21073e911a"
      },
      "execution_count": null,
      "outputs": [
        {
          "output_type": "execute_result",
          "data": {
            "text/plain": [
              "Attrition\n",
              "No     0.881399\n",
              "Yes    0.118601\n",
              "Name: proportion, dtype: float64"
            ],
            "text/html": [
              "<div>\n",
              "<style scoped>\n",
              "    .dataframe tbody tr th:only-of-type {\n",
              "        vertical-align: middle;\n",
              "    }\n",
              "\n",
              "    .dataframe tbody tr th {\n",
              "        vertical-align: top;\n",
              "    }\n",
              "\n",
              "    .dataframe thead th {\n",
              "        text-align: right;\n",
              "    }\n",
              "</style>\n",
              "<table border=\"1\" class=\"dataframe\">\n",
              "  <thead>\n",
              "    <tr style=\"text-align: right;\">\n",
              "      <th></th>\n",
              "      <th>proportion</th>\n",
              "    </tr>\n",
              "    <tr>\n",
              "      <th>Attrition</th>\n",
              "      <th></th>\n",
              "    </tr>\n",
              "  </thead>\n",
              "  <tbody>\n",
              "    <tr>\n",
              "      <th>No</th>\n",
              "      <td>0.881399</td>\n",
              "    </tr>\n",
              "    <tr>\n",
              "      <th>Yes</th>\n",
              "      <td>0.118601</td>\n",
              "    </tr>\n",
              "  </tbody>\n",
              "</table>\n",
              "</div><br><label><b>dtype:</b> float64</label>"
            ]
          },
          "metadata": {},
          "execution_count": 61
        }
      ]
    },
    {
      "cell_type": "code",
      "source": [
        "small_test_df.Attrition.value_counts(normalize=True)"
      ],
      "metadata": {
        "colab": {
          "base_uri": "https://localhost:8080/",
          "height": 178
        },
        "id": "2H0yxAFJdSFJ",
        "outputId": "a06068c4-a24e-42b9-df18-d6d493d02239"
      },
      "execution_count": null,
      "outputs": [
        {
          "output_type": "execute_result",
          "data": {
            "text/plain": [
              "Attrition\n",
              "No     0.880952\n",
              "Yes    0.119048\n",
              "Name: proportion, dtype: float64"
            ],
            "text/html": [
              "<div>\n",
              "<style scoped>\n",
              "    .dataframe tbody tr th:only-of-type {\n",
              "        vertical-align: middle;\n",
              "    }\n",
              "\n",
              "    .dataframe tbody tr th {\n",
              "        vertical-align: top;\n",
              "    }\n",
              "\n",
              "    .dataframe thead th {\n",
              "        text-align: right;\n",
              "    }\n",
              "</style>\n",
              "<table border=\"1\" class=\"dataframe\">\n",
              "  <thead>\n",
              "    <tr style=\"text-align: right;\">\n",
              "      <th></th>\n",
              "      <th>proportion</th>\n",
              "    </tr>\n",
              "    <tr>\n",
              "      <th>Attrition</th>\n",
              "      <th></th>\n",
              "    </tr>\n",
              "  </thead>\n",
              "  <tbody>\n",
              "    <tr>\n",
              "      <th>No</th>\n",
              "      <td>0.880952</td>\n",
              "    </tr>\n",
              "    <tr>\n",
              "      <th>Yes</th>\n",
              "      <td>0.119048</td>\n",
              "    </tr>\n",
              "  </tbody>\n",
              "</table>\n",
              "</div><br><label><b>dtype:</b> float64</label>"
            ]
          },
          "metadata": {},
          "execution_count": 62
        }
      ]
    },
    {
      "cell_type": "code",
      "source": [
        "large_train_df = large_train_df.rename(columns={\n",
        "    'Education Level': 'Education',\n",
        "    'Distance from Home': 'DistanceFromHome',\n",
        "    'Overtime': 'OverTime',\n",
        "    'Work-Life Balance': 'WorkLifeBalance',\n",
        "    'Years at Company': 'YearsAtCompany'\n",
        "    })"
      ],
      "metadata": {
        "id": "SgjfyjqedtCr"
      },
      "execution_count": null,
      "outputs": []
    },
    {
      "cell_type": "code",
      "source": [
        "large_test_df = large_test_df.rename(columns={\n",
        "    'Education Level': 'Education',\n",
        "    'Distance from Home': 'DistanceFromHome',\n",
        "    'Overtime': 'OverTime',\n",
        "    'Work-Life Balance': 'WorkLifeBalance',\n",
        "    'Years at Company': 'YearsAtCompany'\n",
        "    })"
      ],
      "metadata": {
        "id": "ODIoEOQ6dxlb"
      },
      "execution_count": null,
      "outputs": []
    },
    {
      "cell_type": "code",
      "source": [
        "new_column_names = {col: col.replace(' ', '') for col in large_train_df.columns}\n",
        "large_train_df = large_train_df.rename(columns=new_column_names)\n",
        "\n",
        "new_column_names = {col: col.replace(' ', '') for col in large_test_df.columns}\n",
        "large_test_df = large_test_df.rename(columns=new_column_names)"
      ],
      "metadata": {
        "id": "Jh5qm8C4ibKb"
      },
      "execution_count": null,
      "outputs": []
    },
    {
      "cell_type": "code",
      "source": [
        "large_train_df.columns"
      ],
      "metadata": {
        "colab": {
          "base_uri": "https://localhost:8080/"
        },
        "id": "SZlZLctVp7RR",
        "outputId": "101555bd-a17d-4af3-e998-73bc4432a9c2"
      },
      "execution_count": null,
      "outputs": [
        {
          "output_type": "execute_result",
          "data": {
            "text/plain": [
              "Index(['Age', 'Gender', 'YearsAtCompany', 'JobRole', 'MonthlyIncome',\n",
              "       'WorkLifeBalance', 'JobSatisfaction', 'PerformanceRating',\n",
              "       'NumberofPromotions', 'OverTime', 'DistanceFromHome', 'Education',\n",
              "       'MaritalStatus', 'NumberofDependents', 'JobLevel', 'CompanySize',\n",
              "       'CompanyTenure', 'RemoteWork', 'LeadershipOpportunities',\n",
              "       'InnovationOpportunities', 'CompanyReputation', 'EmployeeRecognition',\n",
              "       'Attrition'],\n",
              "      dtype='object')"
            ]
          },
          "metadata": {},
          "execution_count": 66
        }
      ]
    },
    {
      "cell_type": "code",
      "source": [
        "common_cols = ['Age', 'Attrition', 'Gender', 'JobLevel', 'MaritalStatus', 'Education', 'DistanceFromHome', 'OverTime', 'WorkLifeBalance', 'MonthlyIncome', 'JobRole', 'JobSatisfaction','PerformanceRating','YearsAtCompany']\n",
        "len(common_cols)"
      ],
      "metadata": {
        "colab": {
          "base_uri": "https://localhost:8080/"
        },
        "id": "qtctyVbcrpxR",
        "outputId": "3998df94-ba2e-4f54-dc8b-033ebb1db89f"
      },
      "execution_count": null,
      "outputs": [
        {
          "output_type": "execute_result",
          "data": {
            "text/plain": [
              "14"
            ]
          },
          "metadata": {},
          "execution_count": 67
        }
      ]
    },
    {
      "cell_type": "code",
      "source": [
        "small_train_df_common = small_train_df[list(common_cols)]\n",
        "small_test_df_common = small_test_df[list(common_cols)]\n",
        "large_train_df_common = large_train_df[list(common_cols)]\n",
        "large_test_df_common = large_test_df[list(common_cols)]"
      ],
      "metadata": {
        "id": "ND2K9CN8qVKD"
      },
      "execution_count": null,
      "outputs": []
    },
    {
      "cell_type": "code",
      "source": [
        "large_train_df[\"Attrition\"] = large_train_df[\"Attrition\"].replace({'Stayed': 'No', 'Left': 'Yes'})\n",
        "large_test_df[\"Attrition\"] = large_test_df[\"Attrition\"].replace({'Stayed': 'No', 'Left': 'Yes'})"
      ],
      "metadata": {
        "id": "qZ8fyoEIzu6A"
      },
      "execution_count": null,
      "outputs": []
    },
    {
      "cell_type": "code",
      "source": [
        "small_train_df.to_csv('small_train_df.csv', index=False)\n",
        "small_test_df.to_csv('small_test_df.csv', index=False)\n",
        "large_train_df.to_csv('large_train_df.csv', index=False)\n",
        "large_test_df.to_csv('large_test_df.csv', index=False)"
      ],
      "metadata": {
        "id": "jZRzlbhTn4k3"
      },
      "execution_count": null,
      "outputs": []
    },
    {
      "cell_type": "code",
      "source": [
        "common_cols = set(small_train_df.columns) & set(small_test_df.columns) & set(large_train_df_common.columns) & set(large_test_df_common.columns)\n",
        "print(list(common_cols))\n",
        "print(len(common_cols))"
      ],
      "metadata": {
        "colab": {
          "base_uri": "https://localhost:8080/"
        },
        "id": "n9l5n_vSttdp",
        "outputId": "e1220e07-07de-42bf-c815-4cbc080db1e2"
      },
      "execution_count": null,
      "outputs": [
        {
          "output_type": "stream",
          "name": "stdout",
          "text": [
            "['Gender', 'DistanceFromHome', 'JobSatisfaction', 'OverTime', 'WorkLifeBalance', 'Age', 'Education', 'PerformanceRating', 'Attrition', 'YearsAtCompany', 'JobRole', 'JobLevel', 'MaritalStatus', 'MonthlyIncome']\n",
            "14\n"
          ]
        }
      ]
    },
    {
      "cell_type": "code",
      "source": [
        "small_train_df_common.to_csv('small_train_df_common.csv', index=False)\n",
        "small_test_df_common.to_csv('small_test_df_common.csv', index=False)\n",
        "large_train_df_common.to_csv('large_train_df_common.csv', index=False)\n",
        "large_test_df_common.to_csv('large_test_df_common.csv', index=False)"
      ],
      "metadata": {
        "id": "wbgtFDvHtt6h"
      },
      "execution_count": null,
      "outputs": []
    }
  ]
}